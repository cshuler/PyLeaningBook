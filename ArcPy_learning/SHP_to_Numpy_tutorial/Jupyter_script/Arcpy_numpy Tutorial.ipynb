{
 "cells": [
  {
   "cell_type": "markdown",
   "metadata": {},
   "source": [
    "# ArcPy numpy shapefile learning script, \n",
    "# \n",
    "The Map cell needs to run in a arc window py27 environment connected, other parts run in jupyter\n",
    "\n"
   ]
  },
  {
   "cell_type": "code",
   "execution_count": null,
   "metadata": {},
   "outputs": [],
   "source": [
    "from IPython.display import display, HTML\n",
    "display(HTML(data=\"\"\"\n",
    "<style>\n",
    "    div#notebook-container { width: 85%;} div#menubar-container { width: 85%; } div#maintoolbar-container { width: 99%; } </style> \"\"\"))"
   ]
  },
  {
   "cell_type": "markdown",
   "metadata": {},
   "source": [
    "# this is for ArcPy in Arc window"
   ]
  },
  {
   "cell_type": "code",
   "execution_count": null,
   "metadata": {},
   "outputs": [],
   "source": [
    "#This is a cell to paste into an arcpy-map window to see the shapefile in Arc\n",
    "import numpy as np\n",
    "import arcpy\n",
    "import os\n",
    "homedir = 'C:\\\\Users\\\\cshuler\\\\Desktop\\\\PyLeaningBook-master\\\\ArcPy_learning\\\\SHP_to_Numpy_tutorial'   # absolute path, need to change depending on where copied ( this is for desktop of home computer)\n",
    "os.chdir(homedir)                  # start at home\n",
    "\n",
    "mxd = arcpy.mapping.MapDocument(\"CURRENT\")              # reference map document\n",
    "df = arcpy.mapping.ListDataFrames(mxd, \"Layers\")[0]     # reference default dataframe \"Layers\"\n",
    "lyrFile = arcpy.mapping.Layer('londonBoroughs.shp')     # instantate layer\n",
    "arcpy.mapping.AddLayer(df, lyrFile)                     # add layer to map\n",
    "\n",
    "dafile = 'londonBoroughs.shp'                           \n",
    "arr = arcpy.da.TableToNumPyArray(dafile, ('name', 'Pop_2001', 'PopDensity', 'AREA', 'PERIMETER'))\n",
    "np.save('londonBoroughs.npy',  arr) \n",
    "\n",
    "# not needed if not using arcmap"
   ]
  },
  {
   "cell_type": "markdown",
   "metadata": {},
   "source": [
    "# Now this runs in jupyter"
   ]
  },
  {
   "cell_type": "code",
   "execution_count": 1,
   "metadata": {},
   "outputs": [],
   "source": [
    "import numpy as np\n",
    "import os\n",
    "import matplotlib.pyplot as plt\n",
    "\n",
    "homedir = 'C:\\\\Users\\\\cshuler\\\\Desktop\\\\PyLeaningBook-master\\\\ArcPy_learning\\\\SHP_to_Numpy_tutorial'   # absolute path, need to change depending on where copied ( this is for desktop of home computer)\n",
    "os.chdir(homedir)                  # start at home\n",
    "\n",
    "arr = np.load('londonBoroughs.npy') # load the npy file back up from arc into an np array"
   ]
  },
  {
   "cell_type": "code",
   "execution_count": 2,
   "metadata": {},
   "outputs": [
    {
     "data": {
      "text/plain": [
       "('name', 'Pop_2001', 'PopDensity', 'AREA', 'PERIMETER')"
      ]
     },
     "execution_count": 2,
     "metadata": {},
     "output_type": "execute_result"
    }
   ],
   "source": [
    "# The field names are an attribute of the dtype object defining the structure\n",
    "arr.dtype.names\n"
   ]
  },
  {
   "cell_type": "code",
   "execution_count": 3,
   "metadata": {},
   "outputs": [
    {
     "name": "stdout",
     "output_type": "stream",
     "text": [
      "{'name': (dtype('<U254'), 0), 'Pop_2001': (dtype('float64'), 1016), 'PopDensity': (dtype('float64'), 1024), 'AREA': (dtype('float64'), 1032), 'PERIMETER': (dtype('float64'), 1040)}\n",
      "\n",
      "\n",
      "(dtype('float64'), 1024)\n",
      "\n",
      "\n",
      "1024\n"
     ]
    }
   ],
   "source": [
    "# The field titles provide a standard place to put associated info for fields. They do not have to be strings.\n",
    "print(arr.dtype.fields)\n",
    "print('')# make space\n",
    "print('')\n",
    "print(arr.dtype.fields['PopDensity'])\n",
    "print('')# make space\n",
    "print('')\n",
    "print(arr.dtype.fields['PopDensity'][1])\n"
   ]
  },
  {
   "cell_type": "code",
   "execution_count": 4,
   "metadata": {},
   "outputs": [
    {
     "name": "stdout",
     "output_type": "stream",
     "text": [
      "Column 1:  name\n",
      "\n",
      "['Bromley' 'Richmond upon Thames' 'Hillingdon' 'Havering'\n",
      " 'Kingston upon Thames' 'Sutton' 'Hounslow' 'Merton' 'Wandsworth' 'Croydon'\n",
      " 'Lambeth' 'Southwark' 'Lewisham' 'Greenwich' 'Ealing'\n",
      " 'Hammersmith and Fulham' 'Brent' 'Harrow' 'Barnet' 'Islington' 'Hackney'\n",
      " 'Newham' 'Barking and Dagenham' 'Haringey' 'Enfield' 'Waltham Forest'\n",
      " 'Redbridge' 'Bexley' 'Kensington and Chelsea' 'Westminster' 'Camden'\n",
      " 'Tower Hamlets' 'City of London']\n",
      "\n",
      "\n",
      "Column 2:  PopDensity\n",
      "\n",
      "[  1961.   2945.   2091.   1950.   3968.   4080.   3748.   5001.   7268.\n",
      "   3827.   9916.   8179.   6999.   4286.   5431.   9742.   6070.   4112.\n",
      "   3615.  11731.  10627.   6268.   4394.   7137.   3375.   5574.   4258.\n",
      "   3382.  12913.   8297.   9234.   9142.   2062.]\n"
     ]
    }
   ],
   "source": [
    "# NumPy array can be used to list all column values, by specifying a specific header name. The result is a Python list containing all column values with header Pop_2001\n",
    "print('Column 1:  ' +arr.dtype.names[0])\n",
    "print('')# make space\n",
    "print(arr['name'])\n",
    "\n",
    "print('')# make space\n",
    "print('')\n",
    "\n",
    "print('Column 2:  ' +arr.dtype.names[2])\n",
    "print('')\n",
    "print(arr[arr.dtype.names[2]])"
   ]
  },
  {
   "cell_type": "code",
   "execution_count": 5,
   "metadata": {},
   "outputs": [
    {
     "name": "stdout",
     "output_type": "stream",
     "text": [
      "The sum population is:  \n",
      "7172057.0\n",
      "\n",
      "\n",
      "The mean area is:  \n",
      "48343016.7042\n"
     ]
    }
   ],
   "source": [
    "# To calculate the sum and mean values for a specific column\n",
    "a = arr['Pop_2001'].sum()\n",
    "\n",
    "print( 'The sum population is:  ')\n",
    "print(a)\n",
    "\n",
    "print('')# make space\n",
    "print('')# make space\n",
    "\n",
    "mas = arr['AREA'].mean()\n",
    "print( 'The mean area is:  ')\n",
    "print(mas)\n"
   ]
  },
  {
   "cell_type": "code",
   "execution_count": 6,
   "metadata": {},
   "outputs": [
    {
     "data": {
      "text/plain": [
       "248917.0"
      ]
     },
     "execution_count": 6,
     "metadata": {},
     "output_type": "execute_result"
    }
   ],
   "source": [
    "# use bol indexing to select with a specific colinm name\n",
    "selected_col = 'Lewisham'\n",
    "\n",
    "arr[arr['name'] == selected_col]['Pop_2001'].sum()"
   ]
  },
  {
   "cell_type": "code",
   "execution_count": 7,
   "metadata": {},
   "outputs": [
    {
     "name": "stdout",
     "output_type": "stream",
     "text": [
      "('Bromley',  295535.,  1961.,   1.50664950e+08,  67554.407319)\n",
      "\n",
      "Bromley\n",
      "\n",
      "1961.0\n",
      "\n",
      "67554.407319\n",
      "\n",
      "City of London\n"
     ]
    }
   ],
   "source": [
    "# Accessing a particular cell value in a NumPy array\n",
    "print(arr[0])  \n",
    "print('')\n",
    "print(arr[0][0])\n",
    "print('')\n",
    "print(arr[0][2])\n",
    "print('')\n",
    "print(arr[0][-1])\n",
    "\n",
    "print('')\n",
    "print(arr[-1][0])"
   ]
  },
  {
   "cell_type": "code",
   "execution_count": 8,
   "metadata": {
    "scrolled": false
   },
   "outputs": [
    {
     "name": "stdout",
     "output_type": "stream",
     "text": [
      "<class 'numpy.ndarray'>\n",
      "<class 'numpy.void'>\n",
      "<class 'numpy.str_'>\n",
      "<class 'numpy.float64'>\n",
      "\n",
      "Bromley\n",
      "Richmond upon Thames\n",
      "Hillingdon\n",
      "Havering\n",
      "Kingston upon Thames\n",
      "Sutton\n",
      "Hounslow\n",
      "Merton\n",
      "Wandsworth\n",
      "Croydon\n",
      "Lambeth\n",
      "Southwark\n",
      "Lewisham\n",
      "Greenwich\n",
      "Ealing\n",
      "Hammersmith and Fulham\n",
      "Brent\n",
      "Harrow\n",
      "Barnet\n",
      "Islington\n",
      "Hackney\n",
      "Newham\n",
      "Barking and Dagenham\n",
      "Haringey\n",
      "Enfield\n",
      "Waltham Forest\n",
      "Redbridge\n",
      "Bexley\n",
      "Kensington and Chelsea\n",
      "Westminster\n",
      "Camden\n",
      "Tower Hamlets\n",
      "City of London\n"
     ]
    }
   ],
   "source": [
    "#Loop through columns\n",
    "# note each element (every i) is a numpy generic data type called numpy.void each element in the array has its own data types \n",
    "# for example: \n",
    "print(type(arr))\n",
    "print(type(arr[1]))\n",
    "print(type(arr[1][0]))\n",
    "print(type(arr[1][1]))\n",
    "print(\"\")\n",
    "\n",
    "for i in arr:\n",
    "    print(i[0])\n",
    "    \n",
    "# in this example each element is basically a data row   so arr[1] = row 2 of the sheet\n"
   ]
  },
  {
   "cell_type": "code",
   "execution_count": 9,
   "metadata": {
    "scrolled": true
   },
   "outputs": [
    {
     "name": "stdout",
     "output_type": "stream",
     "text": [
      "Lambeth\n",
      "Southwark\n",
      "Hammersmith and Fulham\n",
      "Islington\n",
      "Hackney\n",
      "Kensington and Chelsea\n",
      "Westminster\n",
      "Camden\n",
      "Tower Hamlets\n",
      "\n",
      "Lambeth\n",
      "Southwark\n",
      "Hammersmith and Fulham\n",
      "Islington\n",
      "Hackney\n",
      "Kensington and Chelsea\n",
      "Westminster\n",
      "Camden\n",
      "Tower Hamlets\n"
     ]
    }
   ],
   "source": [
    "# selecting by attribute\n",
    "for i in arr:\n",
    "    if i['PopDensity'] > 8000:     # can also refer by index = i[2] is equivalent \n",
    "        print(i[0])\n",
    "        \n",
    "print(\"\")\n",
    "        \n",
    "for i in arr:\n",
    "    if i[2] > 8000:     # can also refer by index = i[2] is equivalent \n",
    "        print(i[0])\n",
    "    \n"
   ]
  },
  {
   "cell_type": "markdown",
   "metadata": {},
   "source": [
    "# Making raster files This is another in arc Cell"
   ]
  },
  {
   "cell_type": "code",
   "execution_count": null,
   "metadata": {
    "collapsed": true
   },
   "outputs": [],
   "source": []
  },
  {
   "cell_type": "code",
   "execution_count": null,
   "metadata": {
    "collapsed": true
   },
   "outputs": [],
   "source": []
  }
 ],
 "metadata": {
  "kernelspec": {
   "display_name": "Python 3",
   "language": "python",
   "name": "python3"
  },
  "language_info": {
   "codemirror_mode": {
    "name": "ipython",
    "version": 3
   },
   "file_extension": ".py",
   "mimetype": "text/x-python",
   "name": "python",
   "nbconvert_exporter": "python",
   "pygments_lexer": "ipython3",
   "version": "3.6.3"
  }
 },
 "nbformat": 4,
 "nbformat_minor": 2
}
