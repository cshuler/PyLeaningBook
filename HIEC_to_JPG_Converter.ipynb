{
  "nbformat": 4,
  "nbformat_minor": 0,
  "metadata": {
    "colab": {
      "provenance": []
    },
    "kernelspec": {
      "name": "python3",
      "display_name": "Python 3"
    },
    "language_info": {
      "name": "python"
    }
  },
  "cells": [
    {
      "cell_type": "markdown",
      "source": [
        "\n",
        "## This Code will convert HEIC files in any google drive directory to .png files like magic\n",
        "\n",
        "Just set the google drive path to the file in the first cell.\n"
      ],
      "metadata": {
        "id": "csQfB13rsD1Z"
      }
    },
    {
      "cell_type": "code",
      "source": [
        "Drive_Directory_Path = 'Shared drives/Maui fire: UH response/Fieldwork Photos'"
      ],
      "metadata": {
        "id": "eVltTxUNsWC5"
      },
      "execution_count": null,
      "outputs": []
    },
    {
      "cell_type": "code",
      "execution_count": null,
      "metadata": {
        "id": "TlfDLinOo1OV"
      },
      "outputs": [],
      "source": [
        "pip install pillow-heif"
      ]
    },
    {
      "cell_type": "code",
      "source": [
        "import os\n",
        "from PIL import Image\n",
        "import pillow_heif"
      ],
      "metadata": {
        "id": "6w-vXHcupAHU"
      },
      "execution_count": null,
      "outputs": []
    },
    {
      "cell_type": "code",
      "source": [
        "from google.colab import drive\n",
        "drive.mount('/gdrive', force_remount=True )\n",
        "%cd /gdrive\n",
        "\n",
        "os.chdir(Drive_Directory_Path)"
      ],
      "metadata": {
        "id": "9_S54avWpWP1"
      },
      "execution_count": null,
      "outputs": []
    },
    {
      "cell_type": "code",
      "source": [
        "def convert_heic_to_png(file_path):\n",
        "    heif_file = pillow_heif.read_heif(file_path)\n",
        "\n",
        "    # Convert memoryview to bytes\n",
        "    image_bytes = bytes(heif_file.data)\n",
        "\n",
        "    image = Image.frombytes(\n",
        "        heif_file.mode,\n",
        "        heif_file.size,\n",
        "        image_bytes,\n",
        "        \"raw\",\n",
        "    )\n",
        "\n",
        "    # Save the converted image\n",
        "    output_file = os.path.splitext(file_path)[0] + \".png\"\n",
        "    image.save(output_file, format=\"png\")\n",
        "    print(f\"Converted {file_path} to {output_file}\")"
      ],
      "metadata": {
        "id": "f24UhUtFqHty"
      },
      "execution_count": null,
      "outputs": []
    },
    {
      "cell_type": "code",
      "source": [
        "# Get the current directory\n",
        "current_directory = os.getcwd()\n",
        "\n",
        "# Loop through each file in the directory\n",
        "for filename in os.listdir(current_directory):\n",
        "    # Check if the file has a .heic extension\n",
        "    if filename.lower().endswith(\".heic\"):\n",
        "        file_path = os.path.join(current_directory, filename)\n",
        "        convert_heic_to_png(file_path)"
      ],
      "metadata": {
        "colab": {
          "base_uri": "https://localhost:8080/"
        },
        "id": "FTOjJIkDrn0F",
        "outputId": "f9263186-b52a-4434-fcd5-e4afd9da5752"
      },
      "execution_count": null,
      "outputs": [
        {
          "output_type": "stream",
          "name": "stdout",
          "text": [
            "Converted /gdrive/Shareddrives/Maui fire: UH response/Fieldwork Photos/IMG_2762.HEIC to /gdrive/Shareddrives/Maui fire: UH response/Fieldwork Photos/IMG_2762.png\n",
            "Converted /gdrive/Shareddrives/Maui fire: UH response/Fieldwork Photos/IMG_2740.HEIC to /gdrive/Shareddrives/Maui fire: UH response/Fieldwork Photos/IMG_2740.png\n",
            "Converted /gdrive/Shareddrives/Maui fire: UH response/Fieldwork Photos/IMG_2738.HEIC to /gdrive/Shareddrives/Maui fire: UH response/Fieldwork Photos/IMG_2738.png\n",
            "Converted /gdrive/Shareddrives/Maui fire: UH response/Fieldwork Photos/IMG_2716.HEIC to /gdrive/Shareddrives/Maui fire: UH response/Fieldwork Photos/IMG_2716.png\n",
            "Converted /gdrive/Shareddrives/Maui fire: UH response/Fieldwork Photos/IMG_2739.HEIC to /gdrive/Shareddrives/Maui fire: UH response/Fieldwork Photos/IMG_2739.png\n",
            "Converted /gdrive/Shareddrives/Maui fire: UH response/Fieldwork Photos/IMG_2723.HEIC to /gdrive/Shareddrives/Maui fire: UH response/Fieldwork Photos/IMG_2723.png\n",
            "Converted /gdrive/Shareddrives/Maui fire: UH response/Fieldwork Photos/IMG_2721.HEIC to /gdrive/Shareddrives/Maui fire: UH response/Fieldwork Photos/IMG_2721.png\n",
            "Converted /gdrive/Shareddrives/Maui fire: UH response/Fieldwork Photos/IMG_2746.HEIC to /gdrive/Shareddrives/Maui fire: UH response/Fieldwork Photos/IMG_2746.png\n",
            "Converted /gdrive/Shareddrives/Maui fire: UH response/Fieldwork Photos/IMG_2724.HEIC to /gdrive/Shareddrives/Maui fire: UH response/Fieldwork Photos/IMG_2724.png\n",
            "Converted /gdrive/Shareddrives/Maui fire: UH response/Fieldwork Photos/IMG_2748.HEIC to /gdrive/Shareddrives/Maui fire: UH response/Fieldwork Photos/IMG_2748.png\n",
            "Converted /gdrive/Shareddrives/Maui fire: UH response/Fieldwork Photos/IMG_2722.HEIC to /gdrive/Shareddrives/Maui fire: UH response/Fieldwork Photos/IMG_2722.png\n",
            "Converted /gdrive/Shareddrives/Maui fire: UH response/Fieldwork Photos/IMG_2747.HEIC to /gdrive/Shareddrives/Maui fire: UH response/Fieldwork Photos/IMG_2747.png\n",
            "Converted /gdrive/Shareddrives/Maui fire: UH response/Fieldwork Photos/IMG_2836.HEIC to /gdrive/Shareddrives/Maui fire: UH response/Fieldwork Photos/IMG_2836.png\n",
            "Converted /gdrive/Shareddrives/Maui fire: UH response/Fieldwork Photos/IMG_2837.HEIC to /gdrive/Shareddrives/Maui fire: UH response/Fieldwork Photos/IMG_2837.png\n",
            "Converted /gdrive/Shareddrives/Maui fire: UH response/Fieldwork Photos/IMG_2833.HEIC to /gdrive/Shareddrives/Maui fire: UH response/Fieldwork Photos/IMG_2833.png\n",
            "Converted /gdrive/Shareddrives/Maui fire: UH response/Fieldwork Photos/IMG_2838.HEIC to /gdrive/Shareddrives/Maui fire: UH response/Fieldwork Photos/IMG_2838.png\n",
            "Converted /gdrive/Shareddrives/Maui fire: UH response/Fieldwork Photos/IMG_2765.HEIC to /gdrive/Shareddrives/Maui fire: UH response/Fieldwork Photos/IMG_2765.png\n",
            "Converted /gdrive/Shareddrives/Maui fire: UH response/Fieldwork Photos/IMG_2822.HEIC to /gdrive/Shareddrives/Maui fire: UH response/Fieldwork Photos/IMG_2822.png\n",
            "Converted /gdrive/Shareddrives/Maui fire: UH response/Fieldwork Photos/IMG_2741.HEIC to /gdrive/Shareddrives/Maui fire: UH response/Fieldwork Photos/IMG_2741.png\n",
            "Converted /gdrive/Shareddrives/Maui fire: UH response/Fieldwork Photos/IMG_2720.HEIC to /gdrive/Shareddrives/Maui fire: UH response/Fieldwork Photos/IMG_2720.png\n",
            "Converted /gdrive/Shareddrives/Maui fire: UH response/Fieldwork Photos/IMG_2771.HEIC to /gdrive/Shareddrives/Maui fire: UH response/Fieldwork Photos/IMG_2771.png\n",
            "Converted /gdrive/Shareddrives/Maui fire: UH response/Fieldwork Photos/IMG_2764.HEIC to /gdrive/Shareddrives/Maui fire: UH response/Fieldwork Photos/IMG_2764.png\n",
            "Converted /gdrive/Shareddrives/Maui fire: UH response/Fieldwork Photos/IMG_2767.HEIC to /gdrive/Shareddrives/Maui fire: UH response/Fieldwork Photos/IMG_2767.png\n",
            "Converted /gdrive/Shareddrives/Maui fire: UH response/Fieldwork Photos/IMG_2725.HEIC to /gdrive/Shareddrives/Maui fire: UH response/Fieldwork Photos/IMG_2725.png\n",
            "Converted /gdrive/Shareddrives/Maui fire: UH response/Fieldwork Photos/IMG_2825.HEIC to /gdrive/Shareddrives/Maui fire: UH response/Fieldwork Photos/IMG_2825.png\n",
            "Converted /gdrive/Shareddrives/Maui fire: UH response/Fieldwork Photos/IMG_2829.HEIC to /gdrive/Shareddrives/Maui fire: UH response/Fieldwork Photos/IMG_2829.png\n",
            "Converted /gdrive/Shareddrives/Maui fire: UH response/Fieldwork Photos/IMG_2770.HEIC to /gdrive/Shareddrives/Maui fire: UH response/Fieldwork Photos/IMG_2770.png\n",
            "Converted /gdrive/Shareddrives/Maui fire: UH response/Fieldwork Photos/IMG_2745.HEIC to /gdrive/Shareddrives/Maui fire: UH response/Fieldwork Photos/IMG_2745.png\n",
            "Converted /gdrive/Shareddrives/Maui fire: UH response/Fieldwork Photos/IMG_2717.HEIC to /gdrive/Shareddrives/Maui fire: UH response/Fieldwork Photos/IMG_2717.png\n",
            "Converted /gdrive/Shareddrives/Maui fire: UH response/Fieldwork Photos/IMG_2743.HEIC to /gdrive/Shareddrives/Maui fire: UH response/Fieldwork Photos/IMG_2743.png\n",
            "Converted /gdrive/Shareddrives/Maui fire: UH response/Fieldwork Photos/IMG_2832.HEIC to /gdrive/Shareddrives/Maui fire: UH response/Fieldwork Photos/IMG_2832.png\n",
            "Converted /gdrive/Shareddrives/Maui fire: UH response/Fieldwork Photos/IMG_2821.HEIC to /gdrive/Shareddrives/Maui fire: UH response/Fieldwork Photos/IMG_2821.png\n",
            "Converted /gdrive/Shareddrives/Maui fire: UH response/Fieldwork Photos/IMG_2834.HEIC to /gdrive/Shareddrives/Maui fire: UH response/Fieldwork Photos/IMG_2834.png\n",
            "Converted /gdrive/Shareddrives/Maui fire: UH response/Fieldwork Photos/IMG_2751.HEIC to /gdrive/Shareddrives/Maui fire: UH response/Fieldwork Photos/IMG_2751.png\n",
            "Converted /gdrive/Shareddrives/Maui fire: UH response/Fieldwork Photos/IMG_2744.HEIC to /gdrive/Shareddrives/Maui fire: UH response/Fieldwork Photos/IMG_2744.png\n",
            "Converted /gdrive/Shareddrives/Maui fire: UH response/Fieldwork Photos/IMG_2718.HEIC to /gdrive/Shareddrives/Maui fire: UH response/Fieldwork Photos/IMG_2718.png\n",
            "Converted /gdrive/Shareddrives/Maui fire: UH response/Fieldwork Photos/IMG_2768.HEIC to /gdrive/Shareddrives/Maui fire: UH response/Fieldwork Photos/IMG_2768.png\n",
            "Converted /gdrive/Shareddrives/Maui fire: UH response/Fieldwork Photos/IMG_2824.HEIC to /gdrive/Shareddrives/Maui fire: UH response/Fieldwork Photos/IMG_2824.png\n",
            "Converted /gdrive/Shareddrives/Maui fire: UH response/Fieldwork Photos/IMG_2769.HEIC to /gdrive/Shareddrives/Maui fire: UH response/Fieldwork Photos/IMG_2769.png\n",
            "Converted /gdrive/Shareddrives/Maui fire: UH response/Fieldwork Photos/IMG_2742.HEIC to /gdrive/Shareddrives/Maui fire: UH response/Fieldwork Photos/IMG_2742.png\n",
            "Converted /gdrive/Shareddrives/Maui fire: UH response/Fieldwork Photos/IMG_2766.HEIC to /gdrive/Shareddrives/Maui fire: UH response/Fieldwork Photos/IMG_2766.png\n",
            "Converted /gdrive/Shareddrives/Maui fire: UH response/Fieldwork Photos/IMG_2826.HEIC to /gdrive/Shareddrives/Maui fire: UH response/Fieldwork Photos/IMG_2826.png\n",
            "Converted /gdrive/Shareddrives/Maui fire: UH response/Fieldwork Photos/IMG_2719.HEIC to /gdrive/Shareddrives/Maui fire: UH response/Fieldwork Photos/IMG_2719.png\n",
            "Converted /gdrive/Shareddrives/Maui fire: UH response/Fieldwork Photos/IMG_2827.HEIC to /gdrive/Shareddrives/Maui fire: UH response/Fieldwork Photos/IMG_2827.png\n",
            "Converted /gdrive/Shareddrives/Maui fire: UH response/Fieldwork Photos/IMG_2823.HEIC to /gdrive/Shareddrives/Maui fire: UH response/Fieldwork Photos/IMG_2823.png\n",
            "Converted /gdrive/Shareddrives/Maui fire: UH response/Fieldwork Photos/51F91C12-3EEB-4137-96C8-854C331291F2.heic to /gdrive/Shareddrives/Maui fire: UH response/Fieldwork Photos/51F91C12-3EEB-4137-96C8-854C331291F2.png\n",
            "Converted /gdrive/Shareddrives/Maui fire: UH response/Fieldwork Photos/IMG_1049.heic to /gdrive/Shareddrives/Maui fire: UH response/Fieldwork Photos/IMG_1049.png\n",
            "Converted /gdrive/Shareddrives/Maui fire: UH response/Fieldwork Photos/IMG_1053.heic to /gdrive/Shareddrives/Maui fire: UH response/Fieldwork Photos/IMG_1053.png\n",
            "Converted /gdrive/Shareddrives/Maui fire: UH response/Fieldwork Photos/IMG_1052.heic to /gdrive/Shareddrives/Maui fire: UH response/Fieldwork Photos/IMG_1052.png\n"
          ]
        }
      ]
    },
    {
      "cell_type": "code",
      "source": [],
      "metadata": {
        "id": "7l3jRA6PruNT"
      },
      "execution_count": null,
      "outputs": []
    }
  ]
}